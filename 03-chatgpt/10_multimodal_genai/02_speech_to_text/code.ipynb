{
 "cells": [
  {
   "cell_type": "markdown",
   "metadata": {},
   "source": [
    "# Introduction:\n",
    "The Audio API provides two speech to text endpoints, transcriptions and translations, based on our state-of-the-art open source large-v2 Whisper model. They can be used to:\n",
    "\n",
    "Transcribe audio into whatever language the audio is in.\n",
    "\n",
    "* Translate and transcribe the audio into english.\n",
    "* File uploads are currently limited to 25 MB and the following input file types are supported: mp3, mp4, mpeg, mpga, m4a, wav, and webm."
   ]
  },
  {
   "cell_type": "markdown",
   "metadata": {},
   "source": [
    "# Transcriptions\n",
    "The transcriptions API takes as input the audio file you want to transcribe and the desired output file format for the transcription of the audio. We currently support multiple input and output file formats.\n",
    "\n",
    "By default, the response type will be json with the raw text included.\n",
    "\n",
    "{\n",
    "  \"text\": \"Imagine the wildest idea that you've ever had, and you're curious about how it might\n",
    "   scale to something that's a 100, a 1,000 times bigger.\n",
    "....\n",
    "}\n"
   ]
  },
  {
   "cell_type": "code",
   "execution_count": 6,
   "metadata": {},
   "outputs": [],
   "source": [
    "from dotenv import load_dotenv, find_dotenv\n",
    "_: bool = load_dotenv(find_dotenv())"
   ]
  },
  {
   "cell_type": "code",
   "execution_count": 7,
   "metadata": {},
   "outputs": [],
   "source": [
    "from openai import OpenAI\n",
    "client = OpenAI()\n",
    "\n",
    "audio_file = open(\"urdu.mp3\",\"rb\")\n",
    "transcript = client.audio.transcriptions.create(\n",
    "    model=\"whisper-1\",\n",
    "    file=audio_file,\n",
    "    response_format=\"text\"\n",
    ")"
   ]
  },
  {
   "cell_type": "code",
   "execution_count": 8,
   "metadata": {},
   "outputs": [
    {
     "name": "stdout",
     "output_type": "stream",
     "text": [
      "میرا نام عبدالقادر ہے، آپ کا نام کیا ہے؟\n",
      "\n"
     ]
    }
   ],
   "source": [
    "print(transcript)"
   ]
  },
  {
   "cell_type": "markdown",
   "metadata": {},
   "source": [
    "# Translations:\n",
    "\n",
    "The translations API takes as input the audio file in any of the supported languages and transcribes, if necessary, the audio into English. This differs from our /Transcriptions endpoint since the output is not in the original input language and is instead translated to English text."
   ]
  },
  {
   "cell_type": "code",
   "execution_count": 9,
   "metadata": {},
   "outputs": [
    {
     "data": {
      "text/plain": [
       "Translation(text='My name is Abdul Qadir. What is your name?')"
      ]
     },
     "execution_count": 9,
     "metadata": {},
     "output_type": "execute_result"
    }
   ],
   "source": [
    "from openai import OpenAI\n",
    "client = OpenAI()\n",
    "\n",
    "audio_file =  open(\"urdu.mp3\",\"rb\")\n",
    "transcript = client.audio.translations.create(\n",
    "    model=\"whisper-1\",\n",
    "    file=audio_file\n",
    ")\n",
    "transcript"
   ]
  },
  {
   "cell_type": "code",
   "execution_count": 10,
   "metadata": {},
   "outputs": [
    {
     "name": "stdout",
     "output_type": "stream",
     "text": [
      "My name is Abdul Qadir. What is your name?\n"
     ]
    }
   ],
   "source": [
    "print(transcript.text)"
   ]
  },
  {
   "cell_type": "markdown",
   "metadata": {},
   "source": [
    "We only support translation into english at this time.\n",
    "\n",
    "# Supported languages\n",
    "We currently support the following languages through both the transcriptions and translations endpoint:\n",
    "\n",
    "Afrikaans, Arabic, Armenian, Azerbaijani, Belarusian, Bosnian, Bulgarian, Catalan, Chinese, Croatian, Czech, Danish, Dutch, English, Estonian, Finnish, French, Galician, German, Greek, Hebrew, Hindi, Hungarian, Icelandic, Indonesian, Italian, Japanese, Kannada, Kazakh, Korean, Latvian, Lithuanian, Macedonian, Malay, Marathi, Maori, Nepali, Norwegian, Persian, Polish, Portuguese, Romanian, Russian, Serbian, Slovak, Slovenian, Spanish, Swahili, Swedish, Tagalog, Tamil, Thai, Turkish, Ukrainian, Urdu, Vietnamese, and Welsh.\n",
    "\n",
    "While the underlying model was trained on 98 languages, we only list the languages that exceeded <50% word error rate (WER) which is an industry standard benchmark for speech to text model accuracy. The model will return results for languages not listed above but the quality will be low.\n"
   ]
  },
  {
   "cell_type": "code",
   "execution_count": 1,
   "metadata": {},
   "outputs": [
    {
     "name": "stdout",
     "output_type": "stream",
     "text": [
      "Collecting pydub\n",
      "  Downloading pydub-0.25.1-py2.py3-none-any.whl (32 kB)\n",
      "Collecting ffprobe\n",
      "  Downloading ffprobe-0.5.zip (3.5 kB)\n",
      "  Preparing metadata (setup.py) ... \u001b[?25ldone\n",
      "\u001b[?25hBuilding wheels for collected packages: ffprobe\n",
      "  Building wheel for ffprobe (setup.py) ... \u001b[?25ldone\n",
      "\u001b[?25h  Created wheel for ffprobe: filename=ffprobe-0.5-py3-none-any.whl size=3406 sha256=d2aca2241c887bd57e20a1ca695db23d4878a2f111e428ab64299a6fb51ecd0c\n",
      "  Stored in directory: /home/abdul-qadir/.cache/pip/wheels/2c/cb/c1/10daee0c3fad04c9d900006cd0f24bdd47afb74a5c1c085795\n",
      "Successfully built ffprobe\n",
      "Installing collected packages: pydub, ffprobe\n",
      "Successfully installed ffprobe-0.5 pydub-0.25.1\n"
     ]
    }
   ],
   "source": [
    "!pip install pydub ffprobe --upgrade --force"
   ]
  },
  {
   "cell_type": "code",
   "execution_count": 2,
   "metadata": {},
   "outputs": [
    {
     "name": "stdout",
     "output_type": "stream",
     "text": [
      "/bin/bash: line 1: brew: command not found\n",
      "ffprobe version 5.1.2-3ubuntu1 Copyright (c) 2007-2022 the FFmpeg developers\n",
      "built with gcc 12 (Ubuntu 12.2.0-14ubuntu2)\n",
      "configuration: --prefix=/usr --extra-version=3ubuntu1 --toolchain=hardened --libdir=/usr/lib/x86_64-linux-gnu --incdir=/usr/include/x86_64-linux-gnu --arch=amd64 --enable-gpl --disable-stripping --enable-gnutls --enable-ladspa --enable-libaom --enable-libass --enable-libbluray --enable-libbs2b --enable-libcaca --enable-libcdio --enable-libcodec2 --enable-libdav1d --enable-libflite --enable-libfontconfig --enable-libfreetype --enable-libfribidi --enable-libglslang --enable-libgme --enable-libgsm --enable-libjack --enable-libmp3lame --enable-libmysofa --enable-libopenjpeg --enable-libopenmpt --enable-libopus --enable-libpulse --enable-librabbitmq --enable-librist --enable-librubberband --enable-libshine --enable-libsnappy --enable-libsoxr --enable-libspeex --enable-libsrt --enable-libssh --enable-libsvtav1 --enable-libtheora --enable-libtwolame --enable-libvidstab --enable-libvorbis --enable-libvpx --enable-libwebp --enable-libx265 --enable-libxml2 --enable-libxvid --enable-libzimg --enable-libzmq --enable-libzvbi --enable-lv2 --enable-omx --enable-openal --enable-opencl --enable-opengl --enable-sdl2 --disable-sndio --enable-libjxl --enable-pocketsphinx --enable-librsvg --enable-libmfx --enable-libdc1394 --enable-libdrm --enable-libiec61883 --enable-chromaprint --enable-frei0r --enable-libx264 --enable-libplacebo --enable-librav1e --enable-shared\n",
      "libavutil      57. 28.100 / 57. 28.100\n",
      "libavcodec     59. 37.100 / 59. 37.100\n",
      "libavformat    59. 27.100 / 59. 27.100\n",
      "libavdevice    59.  7.100 / 59.  7.100\n",
      "libavfilter     8. 44.100 /  8. 44.100\n",
      "libswscale      6.  7.100 /  6.  7.100\n",
      "libswresample   4.  7.100 /  4.  7.100\n",
      "libpostproc    56.  6.100 / 56.  6.100\n"
     ]
    }
   ],
   "source": [
    "!brew install ffmpeg\n",
    "!ffprobe -version"
   ]
  },
  {
   "cell_type": "markdown",
   "metadata": {},
   "source": [
    "https://docs.tdarr.io/blog/how-to-install-ffprobe-and-gather-data-from-a-media-file"
   ]
  },
  {
   "cell_type": "code",
   "execution_count": 4,
   "metadata": {},
   "outputs": [
    {
     "data": {
      "text/html": [
       "\n",
       "                    <audio controls>\n",
       "                        <source src=\"data:audio/mpeg;base64,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\" type=\"audio/mpeg\"/>\n",
       "                        Your browser does not support the audio element.\n",
       "                    </audio>\n",
       "                  "
      ],
      "text/plain": [
       "<pydub.audio_segment.AudioSegment at 0x7f65ac1c3b10>"
      ]
     },
     "execution_count": 4,
     "metadata": {},
     "output_type": "execute_result"
    }
   ],
   "source": [
    "from pydub import AudioSegment\n",
    "\n",
    "song = AudioSegment.from_mp3(\"/home/abdul-qadir/PIAIC_GenrativeAI/10_multimodal_genai/02_speech_to_text/urdu.mp3\")\n",
    "\n",
    "# PyDub handles time in milliseconds\n",
    "ten_minutes = 10 * 60 * 1000\n",
    "\n",
    "first_10_minutes = song[:ten_minutes]\n",
    "\n",
    "first_10_minutes.export(\"chuck_10_25mb.mp3\", format=\"mp3\")\n",
    "first_10_minutes"
   ]
  },
  {
   "cell_type": "markdown",
   "metadata": {},
   "source": [
    "# Prompting\n",
    "You can use a prompt to improve the quality of the transcripts generated by the Whisper API. The model will try to match the style of the prompt, so it will be more likely to use capitalization and punctuation if the prompt does too. However, the current prompting system is much more limited than our other language models and only provides limited control over the generated audio. Here are some examples of how prompting can help in different scenarios:\n",
    "\n",
    "1: Prompts can be very helpful for correcting specific words or acronyms that the model often misrecognizes in the audio. For example, the following prompt improves the transcription of the words DALL·E and GPT-3, which were previously written as \"GDP 3\" and \"DALI\": \"The transcript is about OpenAI which makes technology like DALL·E, GPT-3, and ChatGPT with the hope of one day building an AGI system that benefits all of humanity\"\n",
    "\n",
    "2: To preserve the context of a file that was split into segments, you can prompt the model with the transcript of the preceding segment. This will make the transcript more accurate, as the model will use the relevant information from the previous audio. The model will only consider the final 224 tokens of the prompt and ignore anything earlier. For multilingual inputs, Whisper uses a custom tokenizer. For English only inputs, it uses the standard GPT-2 tokenizer which are both accessible through the open source Whisper Python package.\n",
    "\n",
    "3: Sometimes the model might skip punctuation in the transcript. You can avoid this by using a simple prompt that includes punctuation: \"Hello, welcome to my lecture.\"\n",
    "\n",
    "The model may also leave out common filler words in the audio. If you want to keep the filler words in your transcript, you can use a prompt that contains them: \"Umm, let me think like, hmm... Okay, here's what I'm, like, thinking.\" Some languages can be written in different ways, such as simplified or traditional Chinese. The model might not always use the writing style that you want for your transcript by default. You can improve this by using a prompt in your preferred writing style.\n",
    "\n",
    "# Improving reliability\n",
    "\n",
    "As we explored in the prompting section, one of the most common challenges faced when using Whisper is the model often does not recognize uncommon words or acronyms. To address this, we have highlighted different techniques which improve the reliability of Whisper in these cases:\n",
    "\n",
    "# Using the prompt parameter\n",
    "\n",
    "The first method involves using the optional prompt parameter to pass a dictionary of the correct spellings.\n",
    "\n",
    "Since it wasn't trained using instruction-following techniques, Whisper operates more like a base GPT model. It's important to keep in mind that Whisper only considers the first 244 tokens of the prompt.\n",
    "\n",
    "transcribe(filepath, prompt=\"ZyntriQix, Digique Plus, CynapseFive, VortiQore V8, EchoNix Array, OrbitalLink Seven, DigiFractal Matrix, PULSE, RAPT, B.R.I.C.K., Q.U.A.R.T.Z., F.L.I.N.T.\")\n",
    "While it will increase reliability, this technique is limited to only 244 characters so your list of SKUs would need to be relatively small in order for this to be a scalable solution.\n",
    "\n",
    "# Post-processing with GPT-4\n",
    "\n",
    "The second method involves a post-processing step using GPT-4 or GPT-3.5-Turbo.\n",
    "\n",
    "We start by providing instructions for GPT-4 through the system_prompt variable. Similar to what we did with the prompt parameter earlier, we can define our company and product names."
   ]
  },
  {
   "cell_type": "code",
   "execution_count": 11,
   "metadata": {},
   "outputs": [
    {
     "data": {
      "text/plain": [
       "'My name is Abdul Qadir. What is your name?'"
      ]
     },
     "execution_count": 11,
     "metadata": {},
     "output_type": "execute_result"
    }
   ],
   "source": [
    "transcript.text"
   ]
  },
  {
   "cell_type": "code",
   "execution_count": 12,
   "metadata": {},
   "outputs": [
    {
     "data": {
      "text/plain": [
       "ChatCompletion(id='chatcmpl-8X97L5BGYimueae3bfX1B5sN2c4qY', choices=[Choice(finish_reason='stop', index=0, message=ChatCompletionMessage(content='My name is Abdul Qadir. What is your name?', role='assistant', function_call=None, tool_calls=None), logprobs=None)], created=1702910563, model='gpt-3.5-turbo-1106', object='chat.completion', system_fingerprint='fp_772e8125bb', usage=CompletionUsage(completion_tokens=12, prompt_tokens=149, total_tokens=161))"
      ]
     },
     "metadata": {},
     "output_type": "display_data"
    },
    {
     "data": {
      "text/plain": [
       "'My name is Abdul Qadir. What is your name?'"
      ]
     },
     "execution_count": 12,
     "metadata": {},
     "output_type": "execute_result"
    }
   ],
   "source": [
    "from openai import OpenAI\n",
    "system_prompt = \"You are a helpful assistant for the company ZyntriQix. Your task is to correct any spelling discrepancies in the transcribed text. Make sure that the names of the following products are spelled correctly: ZyntriQix, Digique Plus, CynapseFive, VortiQore V8, EchoNix Array, OrbitalLink Seven, DigiFractal Matrix, PULSE, RAPT, B.R.I.C.K., Q.U.A.R.T.Z., F.L.I.N.T. Only add necessary punctuation such as periods, commas, and capitalization, and use only the context provided.\"\n",
    "fake_company_filepath : str = \"./urdu.mp3\"\n",
    "\n",
    "\n",
    "client = OpenAI()\n",
    "\n",
    "def genrated_corrected_transcript(temperature, system_prompt, audio_file):\n",
    "    response = client.chat.completions.create(\n",
    "        model=\"gpt-3.5-turbo-1106\",\n",
    "        temperature=temperature,\n",
    "        messages=[\n",
    "            {\n",
    "                \"role\": \"system\",\n",
    "                \"content\": system_prompt,\n",
    "\n",
    "            },\n",
    "            {\n",
    "                \"role\":\"user\",\n",
    "                \"content\":audio_file.text\n",
    "            }\n",
    "        ]\n",
    "    )\n",
    "    display(response)\n",
    "    return response.choices[0].message.content\n",
    "\n",
    "corrected_text = genrated_corrected_transcript(0, system_prompt, transcript)\n",
    "corrected_text"
   ]
  },
  {
   "cell_type": "code",
   "execution_count": null,
   "metadata": {},
   "outputs": [],
   "source": []
  }
 ],
 "metadata": {
  "kernelspec": {
   "display_name": "pgenai",
   "language": "python",
   "name": "python3"
  },
  "language_info": {
   "codemirror_mode": {
    "name": "ipython",
    "version": 3
   },
   "file_extension": ".py",
   "mimetype": "text/x-python",
   "name": "python",
   "nbconvert_exporter": "python",
   "pygments_lexer": "ipython3",
   "version": "3.11.5"
  }
 },
 "nbformat": 4,
 "nbformat_minor": 2
}
