{
 "cells": [
  {
   "cell_type": "markdown",
   "metadata": {},
   "source": [
    "# Make an API Request"
   ]
  },
  {
   "cell_type": "code",
   "execution_count": 1,
   "metadata": {},
   "outputs": [],
   "source": [
    "from openai import OpenAI\n",
    "from dotenv import load_dotenv\n"
   ]
  },
  {
   "cell_type": "code",
   "execution_count": 2,
   "metadata": {},
   "outputs": [],
   "source": [
    "client : OpenAI = OpenAI(api_key=\"xxxxxxxxxxxxxxxxxxxxxxxxxxxxxxxxxxxxxxxxx\")"
   ]
  },
  {
   "cell_type": "code",
   "execution_count": 4,
   "metadata": {},
   "outputs": [
    {
     "name": "stdout",
     "output_type": "stream",
     "text": [
      "In the world of code, a concept so grand,\n",
      "Is the recursive function, a magical hand.\n",
      "Like the echoes in a mountain's vast hall,\n",
      "It calls itself, again and again, standing tall.\n",
      "\n",
      "In the heart of the program, it finds its place,\n",
      "Calling its own name, with grace and embrace.\n",
      "A function within itself, it does renew,\n",
      "A loop of grandeur, a powerful view.\n",
      "\n",
      "Like a Russian nesting doll, it holds a surprise,\n",
      "Unraveling itself, it never denies.\n",
      "A problem divided, in a wondrous dance,\n",
      "Into smaller parts, it takes a chance.\n",
      "\n",
      "With elegance and grace, it solves with delight,\n",
      "Each smaller problem, it brings to light.\n",
      "Until at last, the base case is found,\n",
      "And the recursion unwinds, with a victorious sound.\n",
      "\n",
      "Like magic in motion, a spell to behold,\n",
      "Recursion in programming, a story oft-told.\n",
      "A loop within a loop, a journey so grand,\n",
      "In the world of code, it takes a brave stand.\n"
     ]
    }
   ],
   "source": [
    "from openai.types.chat.chat_completion import ChatCompletion\n",
    "\n",
    "def chat_completion()->str:\n",
    "    completion : ChatCompletion = client.chat.completions.create(\n",
    "        model = \"gpt-3.5-turbo-1106\",\n",
    "        messages= [\n",
    "            {\"role\":\"system\",\"content\":\"You are a poetic assistant, skilled in explaining complex programming concepts with creative flair.\"},\n",
    "            {\"role\":\"user\",\"content\":\"Compose a poem that explains the concept of recursion in programming.\"}\n",
    "        ]\n",
    "\n",
    "    )\n",
    "\n",
    "    return completion.choices[0].message.content\n",
    "\n",
    "print(chat_completion())"
   ]
  },
  {
   "cell_type": "code",
   "execution_count": null,
   "metadata": {},
   "outputs": [],
   "source": []
  }
 ],
 "metadata": {
  "kernelspec": {
   "display_name": "pgenai",
   "language": "python",
   "name": "python3"
  },
  "language_info": {
   "codemirror_mode": {
    "name": "ipython",
    "version": 3
   },
   "file_extension": ".py",
   "mimetype": "text/x-python",
   "name": "python",
   "nbconvert_exporter": "python",
   "pygments_lexer": "ipython3",
   "version": "3.11.5"
  }
 },
 "nbformat": 4,
 "nbformat_minor": 2
}
