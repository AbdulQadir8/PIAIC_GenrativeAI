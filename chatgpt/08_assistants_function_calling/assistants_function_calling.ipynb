{
 "cells": [
  {
   "cell_type": "markdown",
   "metadata": {},
   "source": [
    "# Assistants API - Function Calling\n",
    "\n",
    "An assistant is a purpose-built AI that has specific instructions, leverages extra knowledge, and can call models and tools to perform tasks.\n",
    "\n",
    "https://platform.openai.com/docs/assistants/tools/function-calling\n",
    "\n",
    "https://cookbook.openai.com/examples/assistants_api_overview_python\n",
    "\n",
    "https://dev.to/esponges/build-the-new-openai-assistant-with-function-calling-52f5\n",
    "\n",
    "https://community.openai.com/t/function-calling-with-assistants-api/488259/2\n",
    "\n",
    "https://community.openai.com/t/function-calling-with-assistants-api/488259\n",
    "\n",
    "https://dev.to/airtai/function-calling-and-code-interpretation-with-openais-assistant-api-a-quick-and-simple-tutorial-5ce5\n",
    "\n",
    "https://cobusgreyling.medium.com/what-are-openai-assistant-function-tools-exactly-06ef8e39b7bd\n",
    "\n",
    "Watch:\n",
    "\n",
    "https://www.youtube.com/watch?v=BV-_5_r46kE&t=0s\n",
    "\n",
    "https://www.youtube.com/watch?v=SaJxbuKehpc"
   ]
  },
  {
   "cell_type": "code",
   "execution_count": 3,
   "metadata": {},
   "outputs": [],
   "source": [
    "from openai import OpenAI\n",
    "import json\n",
    "from dotenv import find_dotenv, load_dotenv\n",
    "_ : bool = load_dotenv(find_dotenv())  # read local .env file"
   ]
  },
  {
   "cell_type": "code",
   "execution_count": 4,
   "metadata": {},
   "outputs": [],
   "source": [
    "client: OpenAI = OpenAI()"
   ]
  },
  {
   "cell_type": "markdown",
   "metadata": {},
   "source": [
    "# Function Calling\n",
    "\n",
    "Similar to the Chat Completions API, the Assistants API supports function calling. Function calling allows you to describe functions to the Assistants and have it intelligently return the functions that need to be called along with their arguments. The Assistants API will pause execution during a Run when it invokes functions, and you can supply the results of the function call back to continue the Run execution.\n",
    "\n",
    "# Step 0: Define functions\n",
    "\n",
    "First, define your functions:"
   ]
  },
  {
   "cell_type": "code",
   "execution_count": 5,
   "metadata": {},
   "outputs": [],
   "source": [
    "# Example dummy function hard coded to return the same weather\n",
    "# In production, this could be your backend API or an external API\n",
    "def getCurrentWeather(location:str, unit:str=\"fahreheit\")->str | dict | None:\n",
    "    \"\"\"Get the currrent weather in a given location\"\"\"\n",
    "    if \"tokyo\" in location.lower():\n",
    "        return json.dumps({\"location\": \"Tokyo\", \"temperature\":\"10\", \"unit\":\"celsius\"})\n",
    "    elif \"los angeles\" in location.lower():\n",
    "        return json.dumps({\"location\":\"Los Angeles\", \"temperature\":\"72\", \"unit\":\"fahrenheit\"})\n",
    "    elif \"paris\" in location.lower():\n",
    "        return json.dumps({\"location\":\"Paris\",\"temperature\":\"22\",\"unit\":\"celsius\"})\n",
    "    else:\n",
    "        return json.dumps({\"location\":location,\"temperature\":\"unknown\"})\n",
    "    \n",
    "\n",
    "def getNickname(location:str)->str:\n",
    "    \"\"\"Get the Nickname of a city\"\"\"\n",
    "    if \"tokyo\" in location.lower():\n",
    "        return \"tk\"\n",
    "    elif \"los angeles\" in location.lower():\n",
    "        return \"la\"\n",
    "    elif \"paris\" in location.lower():\n",
    "        return \"py\"\n",
    "    else:\n",
    "        location"
   ]
  },
  {
   "cell_type": "markdown",
   "metadata": {},
   "source": [
    "# Step 1: Create an Assistant and register/report your functions"
   ]
  },
  {
   "cell_type": "code",
   "execution_count": 6,
   "metadata": {},
   "outputs": [],
   "source": [
    "import json\n",
    "\n",
    "def show_json(message, obj):\n",
    "    display(message, json.loads(obj.model_dump_json()))"
   ]
  },
  {
   "cell_type": "code",
   "execution_count": 7,
   "metadata": {},
   "outputs": [],
   "source": [
    "from openai.types.beta import Assistant\n",
    "\n",
    "assistant: Assistant = client.beta.assistants.create(\n",
    "    instructions=\"You are a weather bot. Use the provided fuinctions to answer the questions.\",\n",
    "    model=\"gpt-3.5-turbo-1106\",\n",
    "    tools=[{\n",
    "        \"type\":\"function\",\n",
    "        \"function\": {\n",
    "            \"name\":\"getCurrentWeather\",\n",
    "            \"description\":\"Get the weather in location\",\n",
    "            \"parameters\":{\n",
    "                \"type\":\"object\",\n",
    "                \"properties\":{\n",
    "                    \"location\":{\"type\":\"string\",\"description\":\"The city and state e.g. San Francisco, CA\"},\n",
    "                    \"unit\":{\"type\":\"string\",\"enum\":[\"c\",\"f\"]}\n",
    "                },\n",
    "                \"required\": [\"location\"]\n",
    "            }\n",
    "        }\n",
    "    },{\n",
    "        \"type\":\"function\",\n",
    "        \"function\": {\n",
    "            \"name\": \"getNickname\",\n",
    "            \"description\": \"Get the nickname of a city\",\n",
    "            \"parameters\":{\n",
    "                \"type\": \"object\",\n",
    "                \"properties\": {\n",
    "                    \"location\": {\"type\":\"string\", \"description\":\"The city and state e.g. San Francisco, CA\"},\n",
    "                },\n",
    "                \"required\":[\"location\"]\n",
    "            }\n",
    "        }\n",
    "    }\n",
    "    ]\n",
    ")\n"
   ]
  },
  {
   "cell_type": "markdown",
   "metadata": {},
   "source": [
    "# Step 2: Create a Thread"
   ]
  },
  {
   "cell_type": "code",
   "execution_count": 8,
   "metadata": {},
   "outputs": [
    {
     "name": "stdout",
     "output_type": "stream",
     "text": [
      "Thread(id='thread_FTH14ld8fJixihEt2ETchWm1', created_at=1702208967, metadata={}, object='thread')\n"
     ]
    }
   ],
   "source": [
    "from openai.types.beta.thread import Thread\n",
    "thread: Thread = client.beta.threads.create()\n",
    "print(thread)"
   ]
  },
  {
   "cell_type": "markdown",
   "metadata": {},
   "source": [
    "# Step 3: Add a Message to a Thread"
   ]
  },
  {
   "cell_type": "code",
   "execution_count": 9,
   "metadata": {},
   "outputs": [],
   "source": [
    "from openai.types.beta.threads.thread_message import ThreadMessage\n",
    "\n",
    "#Thread Request\n",
    "message = client.beta.threads.messages.create(\n",
    "    thread_id=thread.id,\n",
    "    role=\"user\",\n",
    "    content=\"How is the weather in Log Angles?\"\n",
    ")"
   ]
  },
  {
   "cell_type": "code",
   "execution_count": 10,
   "metadata": {},
   "outputs": [
    {
     "data": {
      "text/plain": [
       "{'id': 'msg_vmiTqke23vGDzpV03lrtcDUl',\n",
       " 'assistant_id': None,\n",
       " 'content': [MessageContentText(text=Text(annotations=[], value='How is the weather in Log Angles?'), type='text')],\n",
       " 'created_at': 1702208970,\n",
       " 'file_ids': [],\n",
       " 'metadata': {},\n",
       " 'object': 'thread.message',\n",
       " 'role': 'user',\n",
       " 'run_id': None,\n",
       " 'thread_id': 'thread_FTH14ld8fJixihEt2ETchWm1'}"
      ]
     },
     "execution_count": 10,
     "metadata": {},
     "output_type": "execute_result"
    }
   ],
   "source": [
    "dict(message)"
   ]
  },
  {
   "cell_type": "markdown",
   "metadata": {},
   "source": [
    "# Step 4: Run the Assistant"
   ]
  },
  {
   "cell_type": "code",
   "execution_count": 11,
   "metadata": {},
   "outputs": [],
   "source": [
    "from openai.types.beta.threads.run import Run\n",
    "\n",
    "run: Run = client.beta.threads.runs.create(\n",
    "    thread_id=thread.id,\n",
    "    assistant_id=assistant.id\n",
    ")"
   ]
  },
  {
   "cell_type": "code",
   "execution_count": 12,
   "metadata": {},
   "outputs": [
    {
     "data": {
      "text/plain": [
       "{'id': 'run_sqWoesDjrltGjQrTC4etK5ZT',\n",
       " 'assistant_id': 'asst_OPJUKnWhjvpjVdmItgk2ZMeO',\n",
       " 'cancelled_at': None,\n",
       " 'completed_at': None,\n",
       " 'created_at': 1702208977,\n",
       " 'expires_at': 1702209577,\n",
       " 'failed_at': None,\n",
       " 'file_ids': [],\n",
       " 'instructions': 'You are a weather bot. Use the provided fuinctions to answer the questions.',\n",
       " 'last_error': None,\n",
       " 'metadata': {},\n",
       " 'model': 'gpt-3.5-turbo-1106',\n",
       " 'object': 'thread.run',\n",
       " 'required_action': None,\n",
       " 'started_at': None,\n",
       " 'status': 'queued',\n",
       " 'thread_id': 'thread_FTH14ld8fJixihEt2ETchWm1',\n",
       " 'tools': [ToolAssistantToolsFunction(function=FunctionDefinition(name='getCurrentWeather', parameters={'type': 'object', 'properties': {'location': {'type': 'string', 'description': 'The city and state e.g. San Francisco, CA'}, 'unit': {'type': 'string', 'enum': ['c', 'f']}}, 'required': ['location']}, description='Get the weather in location'), type='function'),\n",
       "  ToolAssistantToolsFunction(function=FunctionDefinition(name='getNickname', parameters={'type': 'object', 'properties': {'location': {'type': 'string', 'description': 'The city and state e.g. San Francisco, CA'}}, 'required': ['location']}, description='Get the nickname of a city'), type='function')]}"
      ]
     },
     "execution_count": 12,
     "metadata": {},
     "output_type": "execute_result"
    }
   ],
   "source": [
    "dict(run)"
   ]
  },
  {
   "attachments": {
    "diagram-2.png": {
     "image/png": "[encoded data removed]"
    },
    "diagram.png": {
     "image/png": "[encoded data removed]"
    }
   },
   "cell_type": "markdown",
   "metadata": {},
   "source": [
    "# Run Life Cycle\n",
    "![diagram.png](attachment:diagram.png)\n",
    "# STATUS DEFINITION\n",
    "https://platform.openai.com/docs/assistants/how-it-works/runs-and-run-steps\n",
    "queued:\n",
    "\n",
    "When Runs are first created or when you complete the required_action, they are moved to a queued status. They should almost immediately move to in_progress.\n",
    "\n",
    "in_progress:\n",
    "\n",
    "While in_progress, the Assistant uses the model and tools to perform steps. You can view progress being made by the Run by examining the Run Steps.\n",
    "\n",
    "completed:\n",
    "\n",
    "The Run successfully completed! You can now view all Messages the Assistant added to the Thread, and all the steps the Run took. You can also continue the conversation by adding more user Messages to the Thread and creating another Run.\n",
    "\n",
    "requires_action:\n",
    "\n",
    "When using the Function calling tool, the Run will move to a required_action state once the model determines the names and arguments of the functions to be called. You must then run those functions and submit the outputs before the run proceeds. If the outputs are not provided before the expires_at timestamp passes (roughly 10 mins past creation), the run will move to an expired status.\n",
    "\n",
    "expired:\n",
    "This happens when the function calling outputs were not submitted before expires_at and the run expires. Additionally, if the runs take too long to execute and go beyond the time stated in expires_at, our systems will expire the run.\n",
    "\n",
    "cancelling:\n",
    "\n",
    "You can attempt to cancel an in_progress run using the Cancel Run endpoint. Once the attempt to cancel succeeds, status of the Run moves to cancelled. Cancellation is attempted but not guaranteed. cancelled Run was successfully cancelled.\n",
    "\n",
    "failed:\n",
    "\n",
    "You can view the reason for the failure by looking at the last_error object in the Run. The timestamp for the failure will be recorded under failed_at.\n",
    "\n",
    "# Polling for updates\n",
    "In order to keep the status of your run up to date, you will have to periodically retrieve the Run object. You can check the status of the run each time you retrieve the object to determine what your application should do next. We plan to add support for streaming to make this simpler in the near future.\n",
    "\n",
    "# Thread locks\n",
    "When a Run is in_progress and not in a terminal state, the Thread is locked. This means that:\n",
    "\n",
    "New Messages cannot be added to the Thread.\n",
    "\n",
    "New Runs cannot be created on the Thread.\n",
    "# Run steps\n",
    " ![diagram-2.png](attachment:diagram-2.png)\n",
    "\n",
    " Most of the interesting detail in the Run Step object lives in the step_details field. There can be two types of step details:\n",
    "\n",
    "1: message_creation: This Run Step is created when the Assistant creates a Message on the Thread.\n",
    "2: tool_calls: This Run Step is created when the Assistant calls a tool. Details around this are covered in the relevant sections of the Tools guide."
   ]
  },
  {
   "cell_type": "code",
   "execution_count": 13,
   "metadata": {},
   "outputs": [],
   "source": [
    "available_functions = {\n",
    "    \"getCurrentWeather\":getCurrentWeather,\n",
    "    \"getNickname\":getNickname\n",
    "}"
   ]
  },
  {
   "cell_type": "code",
   "execution_count": 14,
   "metadata": {},
   "outputs": [
    {
     "data": {
      "text/plain": [
       "'thread_FTH14ld8fJixihEt2ETchWm1'"
      ]
     },
     "execution_count": 14,
     "metadata": {},
     "output_type": "execute_result"
    }
   ],
   "source": [
    "thread.id "
   ]
  },
  {
   "cell_type": "markdown",
   "metadata": {},
   "source": [
    "# Step 5: Polling for Updates and Calling Functions"
   ]
  },
  {
   "cell_type": "code",
   "execution_count": 41,
   "metadata": {},
   "outputs": [
    {
     "name": "stdout",
     "output_type": "stream",
     "text": [
      "in_progress .....\n",
      "Run is queued. Waiting...\n",
      "requires_action .....\n",
      "requires_action .....\n",
      "Status:  requires_action\n"
     ]
    },
    {
     "data": {
      "text/plain": [
       "'submit_tool_outputs'"
      ]
     },
     "metadata": {},
     "output_type": "display_data"
    },
    {
     "data": {
      "text/plain": [
       "{'submit_tool_outputs': {'tool_calls': [{'id': 'call_hSx9AIkIE7OfV2mhchRUuLX7',\n",
       "    'function': {'arguments': '{\"location\": \"Los Angeles, CA\", \"unit\": \"c\"}',\n",
       "     'name': 'getCurrentWeather'},\n",
       "    'type': 'function'},\n",
       "   {'id': 'call_ofUCBmjIlCx6Ll3QxYVQzGUK',\n",
       "    'function': {'arguments': '{\"location\": \"Los Angeles, CA\"}',\n",
       "     'name': 'getNickname'},\n",
       "    'type': 'function'}]},\n",
       " 'type': 'submit_tool_outputs'}"
      ]
     },
     "metadata": {},
     "output_type": "display_data"
    },
    {
     "name": "stdout",
     "output_type": "stream",
     "text": [
      "toolCalls present:\n",
      "<function getCurrentWeather at 0x7f9a30f304a0> True =====================================================\n",
      "<function getNickname at 0x7f9a30f30400> False =====================================================\n",
      "[{'tool_call_id': 'call_hSx9AIkIE7OfV2mhchRUuLX7', 'output': '{\"location\": \"Los Angeles\", \"temperature\": \"72\", \"unit\": \"fahrenheit\"}'}, {'tool_call_id': 'call_ofUCBmjIlCx6Ll3QxYVQzGUK', 'output': 'la'}] >>>>\n",
      "in_progress .....\n",
      "Run is queued. Waiting...\n",
      "completed .....\n",
      "completed.........logic\n",
      "Assistant: The current weather in Los Angeles is 72°F and it is also known as \"La\".\n",
      "\n",
      "User: How is the weather in Log Angles?\n",
      "\n"
     ]
    }
   ],
   "source": [
    "import time\n",
    "# loop until the run completes or requires action \n",
    "while True:\n",
    "    runStatus = client.beta.threads.runs.retrieve(thread_id=thread.id,\n",
    "                                                  run_id=run.id)\n",
    "    # Add run steps retrieval here for debuging \n",
    "    run_steps = client.beta.threads.runs.steps.list(thread_id=thread.id, run_id=run.id)\n",
    "    # show_json(\"Run Steps:\", run_steps)\n",
    "    print(runStatus.status ,'.....')\n",
    "\n",
    "    # This means run is making a function call\n",
    "    if runStatus.status == \"requires_action\":\n",
    "        print(runStatus.status,'.....')\n",
    "        print(\"Status: \",\"requires_action\")\n",
    "        show_json(\"submit_tool_outputs\", runStatus.required_action)\n",
    "        if runStatus.required_action.submit_tool_outputs.tool_calls and runStatus.required_action.submit_tool_outputs.tool_calls:\n",
    "            print(\"toolCalls present:\")\n",
    "            toolCalls = runStatus.required_action.submit_tool_outputs.tool_calls\n",
    "\n",
    "        tool_outputs = []\n",
    "        for toolcall in toolCalls:\n",
    "            function_name = toolcall.function.name\n",
    "            function_args = json.loads(toolcall.function.arguments)\n",
    "\n",
    "            if function_name in available_functions:\n",
    "\n",
    "                function_to_call = available_functions[function_name]\n",
    "                print(function_to_call,function_to_call.__name__==\"getCurrentWeather\",\"=====================================================\")\n",
    "\n",
    "                if function_to_call.__name__ == \"getCurrentWeather\":\n",
    "\n",
    "                    response = function_to_call(\n",
    "                        location=function_args.get(\"location\"),\n",
    "                        unit=function_args.get(\"unit\")\n",
    "                    )\n",
    "\n",
    "\n",
    "                    tool_outputs.append({\n",
    "                        \"tool_call_id\": toolcall.id,\n",
    "                        \"output\": response\n",
    "                    })\n",
    "                \n",
    "                elif function_to_call.__name__== \"getNickname\":\n",
    "                    response = function_to_call(\n",
    "                        location=function_args.get(\"location\")\n",
    "                    )\n",
    "                    tool_outputs.append({\n",
    "                        \"tool_call_id\": toolcall.id,\n",
    "                        \"output\": response,\n",
    "                    })\n",
    "\n",
    "        print(tool_outputs, \">>>>\")\n",
    "        # Submit tool outputs and update the run\n",
    "        client.beta.threads.runs.submit_tool_outputs(\n",
    "            thread_id=thread.id,\n",
    "            run_id=run.id,\n",
    "            tool_outputs=tool_outputs\n",
    "        )\n",
    "        \n",
    "    elif runStatus.status == \"completed\":\n",
    "        # List the messages to get the response\n",
    "        print(\"completed.........logic\")\n",
    "        messages: list[ThreadMessage] = client.beta.threads.messages.list(thread_id = thread.id)\n",
    "        for message in messages.data:\n",
    "            role_label = \"User\" if message.role == \"user\" else \"Assistant\"\n",
    "            message_content = message.content[0].text.value\n",
    "            print(f\"{role_label}: {message_content}\\n\")\n",
    "        break  # exit the loop after processsing the completed run\n",
    "\n",
    "    elif run.status == \"failed\":\n",
    "        print(\"Run failed.\")\n",
    "        break\n",
    "    \n",
    "    elif run.status in [\"in_progress\",\"queued\"]:\n",
    "        print(f\"Run is {run.status}. Waiting...\")\n",
    "        time.sleep(5)   # wait for 5 seconds before checking again \n",
    "\n",
    "    else:\n",
    "        print(f\"Unexpected status: {run.status}\")\n",
    "        break\n",
    "                               \n",
    "        \n",
    "\n",
    "\n",
    "\n"
   ]
  },
  {
   "cell_type": "code",
   "execution_count": 17,
   "metadata": {},
   "outputs": [
    {
     "name": "stdout",
     "output_type": "stream",
     "text": [
      "completed ......\n",
      "Unexpected Status: queued\n"
     ]
    }
   ],
   "source": [
    "import time \n",
    "\n",
    "# Loop unitl the run completes or requires action\n",
    "while True:\n",
    "    runStatus = client.beta.threads.runs.retrieve(thread_id=thread.id,run_id=run.id)\n",
    "        # Add run steps retrieval here for debuging \n",
    "    run_steps = client.beta.threads.runs.steps.list(thread_id=thread.id,run_id=run.id)\n",
    "    # show_json({\"Run Steps:\":run_steps})\n",
    "    print(runStatus.status ,'......')\n",
    "\n",
    "\n",
    "    # This means run is making a function call\n",
    "    if runStatus.status == \"requires_action\":\n",
    "        print(runStatus.status, '......')\n",
    "        print(\"Status\", \"requires_action\")\n",
    "        show_json(\"submit_tool_outputs\", runStatus.required_action)\n",
    "        if runStatus.required_action.submit_tool_outputs and runStatus.required_action.submit_tool_outputs.tool_calls:\n",
    "            print(\"toolCalls present:\")\n",
    "            toolCalls = runStatus.required_action.submit_tool_outputs.tool_calls\n",
    "\n",
    "            tool_outputs = []\n",
    "            for toolcall in toolCalls:\n",
    "                function_name = toolcall.function.name\n",
    "                function_args = json.loads(toolcall.function.arguments)\n",
    "\n",
    "                if function_name in available_functions:\n",
    "                    function_to_call = available_functions[function_name]\n",
    "                    print(function_to_call,function_to_call.__name__==\"getCurrentWeather\",\"================================================\")\n",
    "\n",
    "                    if function_to_call.__name__ == \"getCurrentWeather\":\n",
    "\n",
    "                        response = function_to_call(\n",
    "                            location= function_args.get(\"location\"),\n",
    "                            unit = function_args.get(\"unit\")\n",
    "                        )\n",
    "\n",
    "\n",
    "                        tool_outputs.append({\"tool_call_id\":toolcall.id,\n",
    "                                             \"output\":response,\n",
    "                                             })\n",
    "                    elif function_to_call.__name__ == \"getNickname\":\n",
    "                        response = function_to_call(\n",
    "                            location=function_args.get(\"location\")\n",
    "                        )\n",
    "\n",
    "                        tool_outputs.append({\"too_call_id\":toolcall.id,\n",
    "                                             \"output\":response\n",
    "                                             })\n",
    "            \n",
    "            print(tool_outputs,\">>>>\")\n",
    "            # Submit tool outputs and update the run\n",
    "            client.beta.threads.runs.submit_tool_outputs(\n",
    "                thread_id=thread.id,\n",
    "                run_id=run.id,\n",
    "                tool_outputs=tool_outputs)\n",
    "            \n",
    "    \n",
    "    elif runStatus.status == \"Completed\":\n",
    "        # List the messages to get the response\n",
    "        print(\"Completed.........Logic\")\n",
    "        messages: list[ThreadMessage] = client.beta.threads.messages.list(thread_id=thread.id,)\n",
    "        for message in messages.data:\n",
    "            role_label = \"User\" if message.role == \"user\" else \"Assistant\"\n",
    "            message_content = messages.content[0].text.value\n",
    "            print(f\"{role_label}: {message_content}\\n\")\n",
    "\n",
    "        break   # Exit the loop after processing the completed run\n",
    "    elif run.status == \"failed\":\n",
    "        print(\"Run failed.\")\n",
    "\n",
    "    elif run.status == [\"in_progress\",\"queued\"]:\n",
    "        print(f\"Run is {run.status}. Waiting...\")\n",
    "        time.sleep(5)   # wait for five seconds before checking again\n",
    "\n",
    "    else:\n",
    "        print(f\"Unexpected Status: {run.status}\")\n",
    "        break\n",
    "\n",
    "                    \n",
    "                    \n",
    "                \n",
    "\n",
    "        \n",
    "\n",
    "    "
   ]
  },
  {
   "cell_type": "code",
   "execution_count": null,
   "metadata": {},
   "outputs": [],
   "source": []
  }
 ],
 "metadata": {
  "kernelspec": {
   "display_name": "pgenai",
   "language": "python",
   "name": "python3"
  },
  "language_info": {
   "codemirror_mode": {
    "name": "ipython",
    "version": 3
   },
   "file_extension": ".py",
   "mimetype": "text/x-python",
   "name": "python",
   "nbconvert_exporter": "python",
   "pygments_lexer": "ipython3",
   "version": "3.11.5"
  }
 },
 "nbformat": 4,
 "nbformat_minor": 2
}
